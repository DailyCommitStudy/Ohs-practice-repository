{
 "cells": [
  {
   "attachments": {},
   "cell_type": "markdown",
   "metadata": {},
   "source": [
    "### [Python] re 모듈 사용법\n",
    "#### regex는 정규 표현식\n",
    "* 파이썬에서 정규 표현식을 사용할 때, 내장 모듈인 re를 사용하고 있음\n",
    "* 제공해주는 함수들 : match(), fullmatch(), findall(), search() 등"
   ]
  },
  {
   "cell_type": "code",
   "execution_count": 10,
   "metadata": {},
   "outputs": [
    {
     "name": "stdout",
     "output_type": "stream",
     "text": [
      "<re.Match object; span=(0, 1), match='a'>\n",
      "<re.Match object; span=(0, 1), match='a'>\n",
      "None\n",
      "None\n"
     ]
    }
   ],
   "source": [
    "# match() 함수\n",
    "# syntax : match(패턴, 문자열, 플래그)\n",
    "# match()는 문자열의 처음부터 시작해서 작성한 패턴이 일치하는지 확인\n",
    "\n",
    "import re\n",
    "\n",
    "print(re.match('a', 'ab'))\n",
    "print(re.match('a', 'ab'))\n",
    "print(re.match('a', 'bba'))\n",
    "print(re.match('a', 'ba'))\n",
    "\n",
    "# 예시의 1,2번의 시작은 a로 시작하여 매칭이 된 것으로 확인되는데 3,4번은 시작이 b로 시작하므로 매칭이 안 된 것을 확인"
   ]
  },
  {
   "cell_type": "code",
   "execution_count": 11,
   "metadata": {},
   "outputs": [
    {
     "name": "stdout",
     "output_type": "stream",
     "text": [
      "<re.Match object; span=(0, 1), match='a'>\n",
      "<re.Match object; span=(0, 1), match='a'>\n",
      "<re.Match object; span=(2, 3), match='a'>\n",
      "<re.Match object; span=(1, 2), match='a'>\n"
     ]
    }
   ],
   "source": [
    "# search() 함수\n",
    "# syntax : search(패턴, 문자열, 플래그)\n",
    "# search()는 match()와 유사하지만 패턴이 문자열의 처음부터 일치하지 않아도 괜찮음\n",
    "\n",
    "print(re.search('a', 'ab'))\n",
    "print(re.search('a', 'ab'))\n",
    "print(re.search('a', 'bba'))\n",
    "print(re.search('a', 'ba'))\n",
    "\n",
    "# 패턴과 일치만 한다면 문자열의 시작과는 상관없이 전부 찾아서 결과를 반환"
   ]
  },
  {
   "cell_type": "code",
   "execution_count": 12,
   "metadata": {},
   "outputs": [
    {
     "name": "stdout",
     "output_type": "stream",
     "text": [
      "['a']\n",
      "['a', 'a']\n",
      "['a', 'a']\n",
      "['aaa']\n",
      "['aaa', 'aaa']\n",
      "['1', '2', '3', '5', '6', '8']\n",
      "['123', '56', '8']\n"
     ]
    }
   ],
   "source": [
    "# findall() 함수\n",
    "# syntax : findall(패턴, 문자열, 플래그)\n",
    "# findall()은 문자열 안에 패턴에 맞는 케이스를 전부 찾아서 리스트로 반환\n",
    "\n",
    "print(re.findall('a', 'a'))\n",
    "print(re.findall('a', 'aba'))\n",
    "print(re.findall('a', 'baa'))\n",
    "print(re.findall('aaa', 'aaaaa'))\n",
    "print(re.findall('aaa', 'aaaaaa'))\n",
    "print(re.findall('\\d', '숫자123이 이렇게56 있다8'))\n",
    "print(re.findall('\\d+', '숫자123이 이렇게56 있다8'))\n",
    "\n",
    "# 4번째 예시를 보면 패턴은 aaa이고 문자열은 aaaaa 5개입니다. \n",
    "# 해당 함수는 겹치는 것을 제공하지 않으므로 aaa를 3개를 보여주는 형태가 아닌 1개만 보여주게 됩니다.\n",
    "\n",
    "# 5번째의 예시는 a가 6개 이므로 패턴에 해당하는 문자열이 2개가 존재하여 aaa를 2번 리스트에 담아 반환\n",
    "\n",
    "# 7번째의 예시는 \\d+로 넣어줄 경우, 연속된 숫자를 반환하여 보여줌"
   ]
  },
  {
   "cell_type": "code",
   "execution_count": 13,
   "metadata": {},
   "outputs": [
    {
     "name": "stdout",
     "output_type": "stream",
     "text": [
      "<re.Match object; span=(1, 2), match='a'>\n",
      "<re.Match object; span=(2, 3), match='a'>\n"
     ]
    }
   ],
   "source": [
    "# finditer() 함수\n",
    "# syntax : finditer(패턴, 문자열, 플래그)\n",
    "# findall()과 유사하지만 패턴에 맞는 문자열의 리스트가 아닌 iterator 형식으로 반환\n",
    "\n",
    "re_iter = re.finditer('a', 'baa')\n",
    "for s in re_iter:\n",
    "    print(s)\n",
    "\n",
    "# 해당 함수를 사용하는 목적은 패턴에 맞는 문자열과 어느 위치에 존재 하는지를 확인할 때 사용할 수 있음"
   ]
  },
  {
   "cell_type": "code",
   "execution_count": 14,
   "metadata": {},
   "outputs": [
    {
     "name": "stdout",
     "output_type": "stream",
     "text": [
      "<re.Match object; span=(0, 1), match='a'>\n",
      "None\n",
      "None\n",
      "None\n",
      "None\n"
     ]
    }
   ],
   "source": [
    "# fullmatch() 함수\n",
    "# syntax : fullmatch(패턴, 문자열, 플래그)\n",
    "# fullmatch()는 문자열에 시작과 끝이 정확하게 패턴과 일치할 때 반환\n",
    "# match()는 처음부터 패턴에 맞으면 반환을 하지만, 해당 함수는 시작과 끝이 정확하게 일치해야 함\n",
    "\n",
    "print(re.fullmatch('a', 'a'))\n",
    "print(re.fullmatch('a', 'aaa'))\n",
    "print(re.fullmatch('a', 'ab'))\n",
    "print(re.fullmatch('a', 'ba'))\n",
    "print(re.fullmatch('a', 'baa'))"
   ]
  },
  {
   "cell_type": "code",
   "execution_count": 15,
   "metadata": {},
   "outputs": [
    {
     "name": "stdout",
     "output_type": "stream",
     "text": [
      "['', 'b', '', 'bc', '']\n",
      "['', 'b', 'abca']\n"
     ]
    }
   ],
   "source": [
    "# split() 함수\n",
    "# syntax : split(패턴, 문자열, 최대 split 수, 플래그)\n",
    "# split은 문자열에서 패턴이 맞으면 이를 기점으로 리스트로 쪼개는 함수\n",
    "# 만약 3번째 인자(최대 split 수)를 지정하면 문자열을 지정한 수 만큼 쪼개고 그 수가 도달하면 쪼개지 않음\n",
    "\n",
    "print(re.split('a', 'abaabca'))\n",
    "print(re.split('a', 'abaabca', 2))"
   ]
  },
  {
   "cell_type": "code",
   "execution_count": 16,
   "metadata": {},
   "outputs": [
    {
     "name": "stdout",
     "output_type": "stream",
     "text": [
      "zb\n",
      "zxcb\n",
      "zzzzb\n",
      "zaaab\n"
     ]
    }
   ],
   "source": [
    "# sub() 함수\n",
    "# syntax : sub(패턴, 교체할 문자열, 문자열, 최대 교체 수, 플래그)\n",
    "# sub는 문자열에 맞는 패턴을 2번째 인자(교체할 문자열)로 교체합니다. \n",
    "# split의 최대 split 수와 동일하게 최대 교체 수를 지정하면 문자열에 맞는 패턴을 교체할 문자열로 교체하고 그 수가 도달하면 더이상 교체하지 않음\n",
    "\n",
    "print(re.sub('a', 'z', 'ab'))\n",
    "print(re.sub('a', 'zxc', 'ab'))\n",
    "print(re.sub('a', 'z', 'aaaab'))\n",
    "print(re.sub('a', 'z', 'aaaab', 1))"
   ]
  },
  {
   "cell_type": "code",
   "execution_count": 17,
   "metadata": {},
   "outputs": [
    {
     "name": "stdout",
     "output_type": "stream",
     "text": [
      "('zb', 1)\n",
      "('zxcb', 1)\n",
      "('zzzzb', 4)\n",
      "('zaaab', 1)\n"
     ]
    }
   ],
   "source": [
    "# subn() 함수\n",
    "# syntax : subn(패턴, 교체할 문자열, 문자열, 최대 교체 수, 플래그)\n",
    "# sub()와 동작은 동일하지만 반환 결과가 결과 (문자열, 매칭횟수) 형태로 반환\n",
    "\n",
    "print(re.subn('a', 'z', 'ab'))\n",
    "print(re.subn('a', 'zxc', 'ab'))\n",
    "print(re.subn('a', 'z', 'aaaab'))\n",
    "print(re.subn('a', 'z', 'aaaab', 1))"
   ]
  },
  {
   "cell_type": "code",
   "execution_count": 18,
   "metadata": {},
   "outputs": [
    {
     "name": "stdout",
     "output_type": "stream",
     "text": [
      "zxcbcdefg\n",
      "<re.Match object; span=(6, 7), match='a'>\n"
     ]
    }
   ],
   "source": [
    "# compile() 함수\n",
    "# syntax : compile(패턴, 플래그)\n",
    "# 만약 패턴과 플래그가 동일한 정규식을 여러번 사용하려면 compile()를 사용하여 지정한 다음, 위의 함수들을 사용할 수 있음\n",
    "\n",
    "c = re.compile('a')\n",
    "\n",
    "print(c.sub('zxc', 'abcdefg'))\n",
    "print(c.search('vcxdfsa'))"
   ]
  },
  {
   "cell_type": "code",
   "execution_count": 19,
   "metadata": {},
   "outputs": [],
   "source": [
    "# purge()\n",
    "# 위 complie()로 만들어 놓은 객체는 캐시에 보통 100개까지 저장된다고 알려져 있고, 그 수를 넘어가면 초기화 됨\n",
    "# purge()를 호출하면 100개가 넘어가지 않아도 캐시를 초기화 하는 함수\n",
    "\n",
    "re.purge()"
   ]
  },
  {
   "cell_type": "code",
   "execution_count": 20,
   "metadata": {},
   "outputs": [
    {
     "name": "stdout",
     "output_type": "stream",
     "text": [
      "\\(\\\\d\\)\n"
     ]
    }
   ],
   "source": [
    "# escape(패턴)\n",
    "# escape()는 패턴을 입력 받으면 특수문자들에 이스케이프(백슬래쉬) 처리를 한 다음 반환\n",
    "\n",
    "print(re.escape('(\\d)'))"
   ]
  },
  {
   "attachments": {},
   "cell_type": "markdown",
   "metadata": {},
   "source": [
    "#### match object method()\n",
    "* findall()를 제외하고 모든 함수들의 반환은 match object로 반환\n",
    "* match object에서는 group(), start(), end() 등과 같이 찾은 패턴이 문자열의 위치나 매칭 문자열을 반환하는 함수를 제공\n",
    "   \n",
    "##### group(), start(), end(), span()"
   ]
  },
  {
   "cell_type": "code",
   "execution_count": 23,
   "metadata": {},
   "outputs": [
    {
     "name": "stdout",
     "output_type": "stream",
     "text": [
      "aa\n",
      "1\n",
      "3\n",
      "(1, 3)\n"
     ]
    }
   ],
   "source": [
    "# search()로 패턴에 맞는 문자열을 찾았다 하면 \n",
    "# group() 메서드를 통해 패턴에 맞는 문자열을 추출할 수 있음 \n",
    "# start()를 사용해 문자열에서 어디부터 패턴에 맞는 문자가 시작했는지\n",
    "# end()를 통해 어디까지인지 \n",
    "# span()으로 어디부터 어디까지인지 확인할 수 있음\n",
    "\n",
    "result = re.search('aa', 'baab')\n",
    "print(result.group())\n",
    "print(result.start())\n",
    "print(result.end())\n",
    "print(result.span())"
   ]
  },
  {
   "cell_type": "code",
   "execution_count": 25,
   "metadata": {},
   "outputs": [
    {
     "name": "stdout",
     "output_type": "stream",
     "text": [
      "('02', '123', '1234')\n",
      "02-123-1234\n",
      "02-123-1234\n",
      "02\n",
      "123\n"
     ]
    }
   ],
   "source": [
    "# groups(), group(int)\n",
    "# 만약 위와 같이 단순한 형태가 아닌, 소괄호 ()를 사용해 패턴을 묶어 찾는다면 아래와 같이 groups()와 group(int)를 사용할 수 있음\n",
    "\n",
    "result = re.match('(\\d{2})-(\\d{3,4})-(\\d{4})', '02-123-1234')\n",
    "print(result.groups())\n",
    "print(result.group())\n",
    "print(result.group(0))\n",
    "print(result.group(1))\n",
    "print(result.group(2))\n",
    "\n",
    "# 소괄호를 사용해 패턴을 체크하고 체크한 값을 변수로 저장해야만 위의 함수들을 사용할 수 있음"
   ]
  },
  {
   "cell_type": "code",
   "execution_count": 26,
   "metadata": {},
   "outputs": [
    {
     "name": "stdout",
     "output_type": "stream",
     "text": [
      "()\n",
      "02-123-1234\n"
     ]
    }
   ],
   "source": [
    "# 소괄호를 전부 제거한 패턴인데 결과는 동일하지만 groups()를 사용하지 못하는 모습\n",
    "\n",
    "result2 = re.match('\\d{2}-\\d{3,4}-\\d{4}', '02-123-1234')\n",
    "print(result2.groups())\n",
    "print(result2.group())"
   ]
  },
  {
   "cell_type": "code",
   "execution_count": 27,
   "metadata": {},
   "outputs": [
    {
     "name": "stdout",
     "output_type": "stream",
     "text": [
      "{'front': '02', 'middle': '123', 'rear': '1234'}\n",
      "('02', '123', '1234')\n",
      "02\n",
      "02\n"
     ]
    }
   ],
   "source": [
    "# groupdict() 함수\n",
    "# groupdict()를 사용하려면 패턴에 맞는 결과에 이름을 주어야만 함\n",
    "# 패턴에 이름을 주려면 (?P<이름>) 형식이 되어야만 함\n",
    "# 여기서도 소괄호가 존재하지 않으면 에러가 발생\n",
    "\n",
    "result = re.match('(?P<front>\\d{2})-(?P<middle>\\d{3,4})-(?P<rear>\\d{4})', '02-123-1234')\n",
    "\n",
    "print(result.groupdict())\n",
    "print(result.groups())\n",
    "print(result.group(1))\n",
    "print(result.group('front'))"
   ]
  }
 ],
 "metadata": {
  "kernelspec": {
   "display_name": "base",
   "language": "python",
   "name": "python3"
  },
  "language_info": {
   "codemirror_mode": {
    "name": "ipython",
    "version": 3
   },
   "file_extension": ".py",
   "mimetype": "text/x-python",
   "name": "python",
   "nbconvert_exporter": "python",
   "pygments_lexer": "ipython3",
   "version": "3.9.15"
  },
  "orig_nbformat": 4,
  "vscode": {
   "interpreter": {
    "hash": "5a5680f30a3d70089ba58e0fc18b62dfe975241dfcf86d97cc145af6d6a2773a"
   }
  }
 },
 "nbformat": 4,
 "nbformat_minor": 2
}
