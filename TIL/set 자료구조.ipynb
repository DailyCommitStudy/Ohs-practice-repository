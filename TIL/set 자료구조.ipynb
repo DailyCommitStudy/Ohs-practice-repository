{
 "cells": [
  {
   "attachments": {},
   "cell_type": "markdown",
   "metadata": {},
   "source": [
    "### 프로그래머스 입문 day 16 배열의 유사도 문제\n",
    "* 에서 시작된 ... 공부\n",
    "* 그냥 아무 생각 없이 풀어보려고 했으나.. set 자료구조의 이해가 있다면 short-coding 가능한 사실을 깨달음."
   ]
  },
  {
   "cell_type": "code",
   "execution_count": 2,
   "metadata": {},
   "outputs": [],
   "source": [
    "def solution(s1, s2):\n",
    "    return len(set(s1)&set(s2))"
   ]
  },
  {
   "attachments": {},
   "cell_type": "markdown",
   "metadata": {},
   "source": [
    "set에 대한 이해를 위해서는, 직접 set을 보는게 빠름!"
   ]
  },
  {
   "cell_type": "code",
   "execution_count": 3,
   "metadata": {},
   "outputs": [
    {
     "data": {
      "text/plain": [
       "{0, 1, 2, 3}"
      ]
     },
     "execution_count": 3,
     "metadata": {},
     "output_type": "execute_result"
    }
   ],
   "source": [
    "a = set([0,0,0,1,2,3])\n",
    "a"
   ]
  },
  {
   "attachments": {},
   "cell_type": "markdown",
   "metadata": {},
   "source": [
    "* 중복을 허용하지 않는 set() 자료구조! 중복된 0이 제거돼서 나온 모습을 볼 수 있음.   \n",
    "\n",
    "* 리스트를 set으로 묶어줬음에도, 대괄호의 형태로 나오지 않고 딕셔너리처럼 {} 중괄호로 나오는 것을 확인할 수 있음.\n",
    "* 하지만 딕셔너리와는 다르게 key: value의 형태로 묶이지 않음.\n",
    "* 그렇다면 {} 라고 묶었을 때도 set으로 바로 정의가 되는가?"
   ]
  },
  {
   "cell_type": "code",
   "execution_count": 4,
   "metadata": {},
   "outputs": [
    {
     "name": "stdout",
     "output_type": "stream",
     "text": [
      "<class 'set'>\n",
      "<class 'dict'>\n"
     ]
    }
   ],
   "source": [
    "b = {}\n",
    "print(type(a))\n",
    "print(type(b))"
   ]
  },
  {
   "attachments": {},
   "cell_type": "markdown",
   "metadata": {},
   "source": [
    "* set의 경우 반드시 set()으로 묶어줘야 명명 가능.   \n",
    "* 그냥 중괄호를 냅다 변수 지정해주면, 딕셔너리로 변수 저장이 됨."
   ]
  },
  {
   "attachments": {},
   "cell_type": "markdown",
   "metadata": {},
   "source": [
    "#### 집합연산\n",
    "* 중복을 허용하지 않는 구조이기 때문에 집합 연산이 가능!\n",
    "* 교집합, 합집합, 차집합 다 가능."
   ]
  },
  {
   "cell_type": "code",
   "execution_count": 5,
   "metadata": {},
   "outputs": [],
   "source": [
    "# 집합 연산이 되는지 확인해보기 위해 변수 지정 먼저!\n",
    "c = set([1, 2, 3, 4, 5])\n",
    "d = set([0, 2, 4, 6, 8])"
   ]
  },
  {
   "cell_type": "code",
   "execution_count": 6,
   "metadata": {},
   "outputs": [
    {
     "data": {
      "text/plain": [
       "{2, 4}"
      ]
     },
     "execution_count": 6,
     "metadata": {},
     "output_type": "execute_result"
    }
   ],
   "source": [
    "# 교집합\n",
    "# 공통 요소 출력\n",
    "\n",
    "c & d"
   ]
  },
  {
   "cell_type": "code",
   "execution_count": 7,
   "metadata": {},
   "outputs": [
    {
     "name": "stdout",
     "output_type": "stream",
     "text": [
      "e: {0, 1, 2, 3, 4, 5, 6, 8}\n",
      "f: {0, 1, 2, 3, 4, 5, 6, 8}\n"
     ]
    }
   ],
   "source": [
    "# 합집합\n",
    "# 공통 요소를 반복해서 출력하지 않고, 둘을 합친 합집합처럼 보여줌.\n",
    "\n",
    "# 1. | 형태로도 보임\n",
    "e = c | d\n",
    "\n",
    "# 2. .union()의 함수로도 할 수 있음!\n",
    "f = c.union(d)\n",
    "\n",
    "# 확인\n",
    "print('e:', e)\n",
    "print('f:', f)"
   ]
  },
  {
   "cell_type": "code",
   "execution_count": 8,
   "metadata": {},
   "outputs": [
    {
     "data": {
      "text/plain": [
       "{1, 3, 5}"
      ]
     },
     "execution_count": 8,
     "metadata": {},
     "output_type": "execute_result"
    }
   ],
   "source": [
    "# 차집합\n",
    "# 공통 요소를 제외한, 차집합의 모습을 보여줌!\n",
    "\n",
    "c - d"
   ]
  },
  {
   "attachments": {},
   "cell_type": "markdown",
   "metadata": {},
   "source": [
    "### 관련 함수\n",
    "* 들어가기 앞서 다시 생각해야하는 점 : set은 unindexed collection이기 때문에 get()이나 []로 접근 불가능!"
   ]
  },
  {
   "cell_type": "code",
   "execution_count": 9,
   "metadata": {},
   "outputs": [
    {
     "data": {
      "text/plain": [
       "{1, 2, 3, 7, 9}"
      ]
     },
     "execution_count": 9,
     "metadata": {},
     "output_type": "execute_result"
    }
   ],
   "source": [
    "# .add() (집합도 요소를 추가)\n",
    "\n",
    "g = set([7, 1, 2, 9])\n",
    "g.add(3)\n",
    "g"
   ]
  },
  {
   "cell_type": "code",
   "execution_count": 10,
   "metadata": {},
   "outputs": [
    {
     "data": {
      "text/plain": [
       "{0, 1, 2, 3, 4, 7, 8, 9}"
      ]
     },
     "execution_count": 10,
     "metadata": {},
     "output_type": "execute_result"
    }
   ],
   "source": [
    "# .update() (집합 전체를 업데이트 하는 기능, update 안엔 리스트를 넣기만 하면!)\n",
    "\n",
    "g.update([9, 4, 0, 8, 9])\n",
    "g"
   ]
  },
  {
   "cell_type": "code",
   "execution_count": 11,
   "metadata": {},
   "outputs": [
    {
     "name": "stdout",
     "output_type": "stream",
     "text": [
      "{0, 1, 2, 3, 4, 7, 8}\n"
     ]
    },
    {
     "ename": "KeyError",
     "evalue": "9",
     "output_type": "error",
     "traceback": [
      "\u001b[1;31m---------------------------------------------------------------------------\u001b[0m",
      "\u001b[1;31mKeyError\u001b[0m                                  Traceback (most recent call last)",
      "\u001b[1;32mc:\\Users\\sohtk\\OneDrive\\desktop\\2022winter\\dailycommitstudy\\Ohs-practice-repository\\TIL\\set 자료구조.ipynb Cell 16\u001b[0m in \u001b[0;36m<cell line: 7>\u001b[1;34m()\u001b[0m\n\u001b[0;32m      <a href='vscode-notebook-cell:/c%3A/Users/sohtk/OneDrive/desktop/2022winter/dailycommitstudy/Ohs-practice-repository/TIL/set%20%EC%9E%90%EB%A3%8C%EA%B5%AC%EC%A1%B0.ipynb#X23sZmlsZQ%3D%3D?line=4'>5</a>\u001b[0m g\u001b[39m.\u001b[39mremove(\u001b[39m9\u001b[39m) \u001b[39m# first time\u001b[39;00m\n\u001b[0;32m      <a href='vscode-notebook-cell:/c%3A/Users/sohtk/OneDrive/desktop/2022winter/dailycommitstudy/Ohs-practice-repository/TIL/set%20%EC%9E%90%EB%A3%8C%EA%B5%AC%EC%A1%B0.ipynb#X23sZmlsZQ%3D%3D?line=5'>6</a>\u001b[0m \u001b[39mprint\u001b[39m(g)\n\u001b[1;32m----> <a href='vscode-notebook-cell:/c%3A/Users/sohtk/OneDrive/desktop/2022winter/dailycommitstudy/Ohs-practice-repository/TIL/set%20%EC%9E%90%EB%A3%8C%EA%B5%AC%EC%A1%B0.ipynb#X23sZmlsZQ%3D%3D?line=6'>7</a>\u001b[0m g\u001b[39m.\u001b[39;49mremove(\u001b[39m9\u001b[39;49m)\n\u001b[0;32m      <a href='vscode-notebook-cell:/c%3A/Users/sohtk/OneDrive/desktop/2022winter/dailycommitstudy/Ohs-practice-repository/TIL/set%20%EC%9E%90%EB%A3%8C%EA%B5%AC%EC%A1%B0.ipynb#X23sZmlsZQ%3D%3D?line=7'>8</a>\u001b[0m \u001b[39mprint\u001b[39m(g)\n",
      "\u001b[1;31mKeyError\u001b[0m: 9"
     ]
    }
   ],
   "source": [
    "# .remove() (집합의 요소 삭제) / .discard() (역시 마찬가지지만, 해당하는 요소가 없을 때 사용해도 에러 안 뜸)\n",
    "# 비교를 위해 먼저 remove 진행\n",
    "\n",
    "# .remove()\n",
    "g.remove(9) # first time\n",
    "print(g)\n",
    "g.remove(9)\n",
    "print(g)"
   ]
  },
  {
   "cell_type": "code",
   "execution_count": 12,
   "metadata": {},
   "outputs": [
    {
     "data": {
      "text/plain": [
       "{0, 1, 2, 3, 4, 7, 8}"
      ]
     },
     "execution_count": 12,
     "metadata": {},
     "output_type": "execute_result"
    }
   ],
   "source": [
    "# .discard()\n",
    "g.discard(9)\n",
    "g"
   ]
  },
  {
   "cell_type": "code",
   "execution_count": 13,
   "metadata": {},
   "outputs": [
    {
     "data": {
      "text/plain": [
       "{1, 2, 3, 4, 7, 8}"
      ]
     },
     "execution_count": 13,
     "metadata": {},
     "output_type": "execute_result"
    }
   ],
   "source": [
    "# .pop() (마지막 아이템을 제거하고 그 값을 리턴! 하지만 Set는 unindexed기 때문에 어떤 아이템이 삭제될지 예상할 수 없음)\n",
    "\n",
    "g.pop()\n",
    "g"
   ]
  }
 ],
 "metadata": {
  "kernelspec": {
   "display_name": "Python 3",
   "language": "python",
   "name": "python3"
  },
  "language_info": {
   "codemirror_mode": {
    "name": "ipython",
    "version": 3
   },
   "file_extension": ".py",
   "mimetype": "text/x-python",
   "name": "python",
   "nbconvert_exporter": "python",
   "pygments_lexer": "ipython3",
   "version": "3.10.5"
  },
  "orig_nbformat": 4,
  "vscode": {
   "interpreter": {
    "hash": "f02842ccf9ef64c4daa21acded69ee38d37be92dbcaed49bb64df8d5d0c997d3"
   }
  }
 },
 "nbformat": 4,
 "nbformat_minor": 2
}
